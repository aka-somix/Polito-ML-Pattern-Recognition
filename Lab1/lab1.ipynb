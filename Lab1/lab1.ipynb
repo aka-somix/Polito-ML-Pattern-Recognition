{
 "cells": [
  {
   "attachments": {},
   "cell_type": "markdown",
   "metadata": {},
   "source": [
    "# Laboratory 1\n",
    "#### Machine Learning and Pattern recognition - PoliTO\n",
    "---"
   ]
  },
  {
   "attachments": {},
   "cell_type": "markdown",
   "metadata": {},
   "source": [
    "## Exercise 1\n",
    "Write a program able to handle the scores of an artistic gymnastic event. The event scores are contained\n",
    "in a file whose name is passed from the command line. Every line of the file contains: the competitors\n",
    "name and surname, competitors nationality, and the assigned evaluations provided by 5 judges. For\n",
    "example, the file (score.txt) contains:"
   ]
  },
  {
   "cell_type": "code",
   "execution_count": 1,
   "metadata": {},
   "outputs": [
    {
     "data": {
      "text/plain": [
       "['Donald Duck ITA 9.3 8.9 9.7 9.7 9.8',\n",
       " 'Mickey Mouse ITA 9.0 9.0 9.0 9.2 9.5',\n",
       " 'Bugs Bunny USA 8.4 8.7 8.5 8.6 9.0',\n",
       " 'Daffy Duck RUS 8.3 8.8 9.5 9.6 9.0',\n",
       " 'Charlie Brown GRB 8.2 8.9 8.9 8.6 9.3']"
      ]
     },
     "execution_count": 1,
     "metadata": {},
     "output_type": "execute_result"
    }
   ],
   "source": [
    "scores = []\n",
    "\n",
    "with open(\"scores.txt\", \"r\") as scores_file:\n",
    "  for row in scores_file:\n",
    "    scores.append(row.strip())\n",
    "\n",
    "scores"
   ]
  },
  {
   "attachments": {},
   "cell_type": "markdown",
   "metadata": {},
   "source": [
    "### Assumptions:\n",
    "* The total number of records (lines) is not known\n",
    "* The competitors name and surname do not contain spaces\n",
    "* There are always 5 evaluations for every competitor, and these numbers are separated by a space\n",
    "\n",
    "### The program should show:\n",
    "\n",
    "1. The final ranking for the best 3 competitors: consider that for computing the final records, the\n",
    "highest and lowest evaluations are ignored and the score is determined by the sum of the remaining\n",
    "3 values."
   ]
  },
  {
   "cell_type": "code",
   "execution_count": 2,
   "metadata": {},
   "outputs": [],
   "source": [
    "# Create Partecipant Class\n",
    "\n",
    "class Partecipant(object):\n",
    "  \n",
    "  def __init__(self, name, score, country):\n",
    "    self.name = name\n",
    "    self.score = score\n",
    "    self.country = country\n",
    "\n",
    "  def __lt__(self, other):\n",
    "      return self.score < other.score\n",
    "\n",
    "  def __lte__(self, other):\n",
    "      return self.score <= other.score\n",
    "\n",
    "  def __gt__(self, other):\n",
    "      return self.score > other.score\n",
    "\n",
    "  def __gte__(self, other):\n",
    "      return self.score >= other.score\n",
    "  \n",
    "  def __repr__(self) -> str:\n",
    "     return f\"{self.name} [{self.country}]: {self.score}\""
   ]
  },
  {
   "cell_type": "code",
   "execution_count": 3,
   "metadata": {},
   "outputs": [
    {
     "data": {
      "text/plain": [
       "[Mickey Mouse [ITA]: 27.2, Daffy Duck [RUS]: 27.3, Donald Duck [ITA]: 28.7]"
      ]
     },
     "execution_count": 3,
     "metadata": {},
     "output_type": "execute_result"
    }
   ],
   "source": [
    "# List of partecipants\n",
    "partecipants = []\n",
    "\n",
    "for row in scores:\n",
    "  splitted = row.split(\" \")\n",
    "  \n",
    "  name = \" \".join(splitted[:2])\n",
    "  country = splitted[2]\n",
    "  \n",
    "  # Extract and sort score\n",
    "  score_list = [float(value) for value in splitted[3:]]\n",
    "  score_list.sort()\n",
    "  \n",
    "  # Sum ignoring best and worst\n",
    "  score = sum(score_list[1:-1])\n",
    "  \n",
    "  partecipants.append(Partecipant(name, score, country))\n",
    "\n",
    "# Using class comparators we can sort the array based on the score and extract the best 3\n",
    "partecipants.sort()\n",
    "best_3 = partecipants[-3:]\n",
    "\n",
    "best_3"
   ]
  },
  {
   "attachments": {},
   "cell_type": "markdown",
   "metadata": {},
   "source": [
    "2. The best country: the one that obtained the best score considering the sum of all the competitors\n",
    "of this country (always ignoring for every competitor the highest and lower evaluations)."
   ]
  },
  {
   "cell_type": "code",
   "execution_count": 4,
   "metadata": {},
   "outputs": [
    {
     "data": {
      "text/plain": [
       "'Best country: ITA: 55.9'"
      ]
     },
     "execution_count": 4,
     "metadata": {},
     "output_type": "execute_result"
    }
   ],
   "source": [
    "country_scores = {}\n",
    "for p in partecipants:\n",
    "  c = p.country\n",
    "  \n",
    "  if c in country_scores:\n",
    "    country_scores[c] += p.score\n",
    "  else:\n",
    "    country_scores[c] = p.score\n",
    "\n",
    "\n",
    "# Find best\n",
    "best_country = \"\"\n",
    "best_score = 0\n",
    "\n",
    "for c, s in country_scores.items():\n",
    "  if s > best_score:\n",
    "    best_country = c\n",
    "    best_score = s\n",
    "\n",
    "\n",
    "f\"Best country: {best_country}: {best_score}\""
   ]
  }
 ],
 "metadata": {
  "kernelspec": {
   "display_name": "Python 3",
   "language": "python",
   "name": "python3"
  },
  "language_info": {
   "codemirror_mode": {
    "name": "ipython",
    "version": 3
   },
   "file_extension": ".py",
   "mimetype": "text/x-python",
   "name": "python",
   "nbconvert_exporter": "python",
   "pygments_lexer": "ipython3",
   "version": "3.8.10"
  },
  "orig_nbformat": 4
 },
 "nbformat": 4,
 "nbformat_minor": 2
}
